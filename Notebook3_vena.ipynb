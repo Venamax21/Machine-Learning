{
  "nbformat": 4,
  "nbformat_minor": 0,
  "metadata": {
    "colab": {
      "provenance": [],
      "include_colab_link": true
    },
    "kernelspec": {
      "name": "python3",
      "display_name": "Python 3"
    },
    "language_info": {
      "name": "python"
    }
  },
  "cells": [
    {
      "cell_type": "markdown",
      "metadata": {
        "id": "view-in-github",
        "colab_type": "text"
      },
      "source": [
        "<a href=\"https://colab.research.google.com/github/j23-cs167/notebook-3-Venamax21/blob/main/Notebook3_vena.ipynb\" target=\"_parent\"><img src=\"https://colab.research.google.com/assets/colab-badge.svg\" alt=\"Open In Colab\"/></a>"
      ]
    },
    {
      "cell_type": "markdown",
      "source": [
        "# Notebook #3: Cross Validation with kNN and Wine Ratings\n",
        "**Name: your name here**\n"
      ],
      "metadata": {
        "id": "6p6Gf9wQNv_f"
      }
    },
    {
      "cell_type": "markdown",
      "source": [
        "Prepare the data"
      ],
      "metadata": {
        "id": "diNiU6_kN5se"
      }
    },
    {
      "cell_type": "code",
      "source": [
        "import pandas\n",
        "import numpy\n",
        "from google.colab import drive \n",
        "drive.mount('/content/drive')"
      ],
      "metadata": {
        "id": "kf1k35nmN15u",
        "colab": {
          "base_uri": "https://localhost:8080/"
        },
        "outputId": "316735f8-7cd2-4998-a37d-982050bdfa93"
      },
      "execution_count": 1,
      "outputs": [
        {
          "output_type": "stream",
          "name": "stdout",
          "text": [
            "Mounted at /content/drive\n"
          ]
        }
      ]
    },
    {
      "cell_type": "code",
      "source": [
        "# change the path so to access the data on your drive \n",
        "wine_data = pandas.read_csv('/content/drive/MyDrive/ColabNotebooks/CS167Datasets/winequality-white.csv')\n",
        "wine_data.head()"
      ],
      "metadata": {
        "id": "NU2OlQdUN7hg",
        "colab": {
          "base_uri": "https://localhost:8080/",
          "height": 206
        },
        "outputId": "deace189-566d-47d6-f3e2-441f31127788"
      },
      "execution_count": 3,
      "outputs": [
        {
          "output_type": "execute_result",
          "data": {
            "text/plain": [
              "   fixed acidity  volatile acidity  citric acid  residual sugar  chlorides  \\\n",
              "0            7.4              0.70         0.00             1.9      0.076   \n",
              "1            7.8              0.88         0.00             2.6      0.098   \n",
              "2            7.8              0.76         0.04             2.3      0.092   \n",
              "3           11.2              0.28         0.56             1.9      0.075   \n",
              "4            7.4              0.70         0.00             1.9      0.076   \n",
              "\n",
              "   free sulfur dioxide  total sulfur dioxide  density    pH  sulphates  \\\n",
              "0                 11.0                  34.0   0.9978  3.51       0.56   \n",
              "1                 25.0                  67.0   0.9968  3.20       0.68   \n",
              "2                 15.0                  54.0   0.9970  3.26       0.65   \n",
              "3                 17.0                  60.0   0.9980  3.16       0.58   \n",
              "4                 11.0                  34.0   0.9978  3.51       0.56   \n",
              "\n",
              "   alcohol  quality  \n",
              "0      9.4        5  \n",
              "1      9.8        5  \n",
              "2      9.8        5  \n",
              "3      9.8        6  \n",
              "4      9.4        5  "
            ],
            "text/html": [
              "\n",
              "  <div id=\"df-b686c9e8-f105-44c2-8fc6-89669f852e41\">\n",
              "    <div class=\"colab-df-container\">\n",
              "      <div>\n",
              "<style scoped>\n",
              "    .dataframe tbody tr th:only-of-type {\n",
              "        vertical-align: middle;\n",
              "    }\n",
              "\n",
              "    .dataframe tbody tr th {\n",
              "        vertical-align: top;\n",
              "    }\n",
              "\n",
              "    .dataframe thead th {\n",
              "        text-align: right;\n",
              "    }\n",
              "</style>\n",
              "<table border=\"1\" class=\"dataframe\">\n",
              "  <thead>\n",
              "    <tr style=\"text-align: right;\">\n",
              "      <th></th>\n",
              "      <th>fixed acidity</th>\n",
              "      <th>volatile acidity</th>\n",
              "      <th>citric acid</th>\n",
              "      <th>residual sugar</th>\n",
              "      <th>chlorides</th>\n",
              "      <th>free sulfur dioxide</th>\n",
              "      <th>total sulfur dioxide</th>\n",
              "      <th>density</th>\n",
              "      <th>pH</th>\n",
              "      <th>sulphates</th>\n",
              "      <th>alcohol</th>\n",
              "      <th>quality</th>\n",
              "    </tr>\n",
              "  </thead>\n",
              "  <tbody>\n",
              "    <tr>\n",
              "      <th>0</th>\n",
              "      <td>7.4</td>\n",
              "      <td>0.70</td>\n",
              "      <td>0.00</td>\n",
              "      <td>1.9</td>\n",
              "      <td>0.076</td>\n",
              "      <td>11.0</td>\n",
              "      <td>34.0</td>\n",
              "      <td>0.9978</td>\n",
              "      <td>3.51</td>\n",
              "      <td>0.56</td>\n",
              "      <td>9.4</td>\n",
              "      <td>5</td>\n",
              "    </tr>\n",
              "    <tr>\n",
              "      <th>1</th>\n",
              "      <td>7.8</td>\n",
              "      <td>0.88</td>\n",
              "      <td>0.00</td>\n",
              "      <td>2.6</td>\n",
              "      <td>0.098</td>\n",
              "      <td>25.0</td>\n",
              "      <td>67.0</td>\n",
              "      <td>0.9968</td>\n",
              "      <td>3.20</td>\n",
              "      <td>0.68</td>\n",
              "      <td>9.8</td>\n",
              "      <td>5</td>\n",
              "    </tr>\n",
              "    <tr>\n",
              "      <th>2</th>\n",
              "      <td>7.8</td>\n",
              "      <td>0.76</td>\n",
              "      <td>0.04</td>\n",
              "      <td>2.3</td>\n",
              "      <td>0.092</td>\n",
              "      <td>15.0</td>\n",
              "      <td>54.0</td>\n",
              "      <td>0.9970</td>\n",
              "      <td>3.26</td>\n",
              "      <td>0.65</td>\n",
              "      <td>9.8</td>\n",
              "      <td>5</td>\n",
              "    </tr>\n",
              "    <tr>\n",
              "      <th>3</th>\n",
              "      <td>11.2</td>\n",
              "      <td>0.28</td>\n",
              "      <td>0.56</td>\n",
              "      <td>1.9</td>\n",
              "      <td>0.075</td>\n",
              "      <td>17.0</td>\n",
              "      <td>60.0</td>\n",
              "      <td>0.9980</td>\n",
              "      <td>3.16</td>\n",
              "      <td>0.58</td>\n",
              "      <td>9.8</td>\n",
              "      <td>6</td>\n",
              "    </tr>\n",
              "    <tr>\n",
              "      <th>4</th>\n",
              "      <td>7.4</td>\n",
              "      <td>0.70</td>\n",
              "      <td>0.00</td>\n",
              "      <td>1.9</td>\n",
              "      <td>0.076</td>\n",
              "      <td>11.0</td>\n",
              "      <td>34.0</td>\n",
              "      <td>0.9978</td>\n",
              "      <td>3.51</td>\n",
              "      <td>0.56</td>\n",
              "      <td>9.4</td>\n",
              "      <td>5</td>\n",
              "    </tr>\n",
              "  </tbody>\n",
              "</table>\n",
              "</div>\n",
              "      <button class=\"colab-df-convert\" onclick=\"convertToInteractive('df-b686c9e8-f105-44c2-8fc6-89669f852e41')\"\n",
              "              title=\"Convert this dataframe to an interactive table.\"\n",
              "              style=\"display:none;\">\n",
              "        \n",
              "  <svg xmlns=\"http://www.w3.org/2000/svg\" height=\"24px\"viewBox=\"0 0 24 24\"\n",
              "       width=\"24px\">\n",
              "    <path d=\"M0 0h24v24H0V0z\" fill=\"none\"/>\n",
              "    <path d=\"M18.56 5.44l.94 2.06.94-2.06 2.06-.94-2.06-.94-.94-2.06-.94 2.06-2.06.94zm-11 1L8.5 8.5l.94-2.06 2.06-.94-2.06-.94L8.5 2.5l-.94 2.06-2.06.94zm10 10l.94 2.06.94-2.06 2.06-.94-2.06-.94-.94-2.06-.94 2.06-2.06.94z\"/><path d=\"M17.41 7.96l-1.37-1.37c-.4-.4-.92-.59-1.43-.59-.52 0-1.04.2-1.43.59L10.3 9.45l-7.72 7.72c-.78.78-.78 2.05 0 2.83L4 21.41c.39.39.9.59 1.41.59.51 0 1.02-.2 1.41-.59l7.78-7.78 2.81-2.81c.8-.78.8-2.07 0-2.86zM5.41 20L4 18.59l7.72-7.72 1.47 1.35L5.41 20z\"/>\n",
              "  </svg>\n",
              "      </button>\n",
              "      \n",
              "  <style>\n",
              "    .colab-df-container {\n",
              "      display:flex;\n",
              "      flex-wrap:wrap;\n",
              "      gap: 12px;\n",
              "    }\n",
              "\n",
              "    .colab-df-convert {\n",
              "      background-color: #E8F0FE;\n",
              "      border: none;\n",
              "      border-radius: 50%;\n",
              "      cursor: pointer;\n",
              "      display: none;\n",
              "      fill: #1967D2;\n",
              "      height: 32px;\n",
              "      padding: 0 0 0 0;\n",
              "      width: 32px;\n",
              "    }\n",
              "\n",
              "    .colab-df-convert:hover {\n",
              "      background-color: #E2EBFA;\n",
              "      box-shadow: 0px 1px 2px rgba(60, 64, 67, 0.3), 0px 1px 3px 1px rgba(60, 64, 67, 0.15);\n",
              "      fill: #174EA6;\n",
              "    }\n",
              "\n",
              "    [theme=dark] .colab-df-convert {\n",
              "      background-color: #3B4455;\n",
              "      fill: #D2E3FC;\n",
              "    }\n",
              "\n",
              "    [theme=dark] .colab-df-convert:hover {\n",
              "      background-color: #434B5C;\n",
              "      box-shadow: 0px 1px 3px 1px rgba(0, 0, 0, 0.15);\n",
              "      filter: drop-shadow(0px 1px 2px rgba(0, 0, 0, 0.3));\n",
              "      fill: #FFFFFF;\n",
              "    }\n",
              "  </style>\n",
              "\n",
              "      <script>\n",
              "        const buttonEl =\n",
              "          document.querySelector('#df-b686c9e8-f105-44c2-8fc6-89669f852e41 button.colab-df-convert');\n",
              "        buttonEl.style.display =\n",
              "          google.colab.kernel.accessAllowed ? 'block' : 'none';\n",
              "\n",
              "        async function convertToInteractive(key) {\n",
              "          const element = document.querySelector('#df-b686c9e8-f105-44c2-8fc6-89669f852e41');\n",
              "          const dataTable =\n",
              "            await google.colab.kernel.invokeFunction('convertToInteractive',\n",
              "                                                     [key], {});\n",
              "          if (!dataTable) return;\n",
              "\n",
              "          const docLinkHtml = 'Like what you see? Visit the ' +\n",
              "            '<a target=\"_blank\" href=https://colab.research.google.com/notebooks/data_table.ipynb>data table notebook</a>'\n",
              "            + ' to learn more about interactive tables.';\n",
              "          element.innerHTML = '';\n",
              "          dataTable['output_type'] = 'display_data';\n",
              "          await google.colab.output.renderOutput(dataTable, element);\n",
              "          const docLink = document.createElement('div');\n",
              "          docLink.innerHTML = docLinkHtml;\n",
              "          element.appendChild(docLink);\n",
              "        }\n",
              "      </script>\n",
              "    </div>\n",
              "  </div>\n",
              "  "
            ]
          },
          "metadata": {},
          "execution_count": 3
        }
      ]
    },
    {
      "cell_type": "markdown",
      "source": [
        "# Exercise #1. \n",
        "Implement mean squared error (mse) algorithm"
      ],
      "metadata": {
        "id": "y0y8sj-TOwlA"
      }
    },
    {
      "cell_type": "code",
      "source": [
        "from sklearn.metrics import mean_squared_error\n",
        "\n",
        "def mse(actual,predicted):\n",
        "    mse = mean_squared_error(actual, predicted)\n",
        "    return mse\n",
        "    # INPUT: \n",
        "    #   actual: a list of values\n",
        "    #   predicted: a list of values\n",
        "    #   (we assume that number of elements in actual and predicted match)\n",
        "    # OUTPUT: \n",
        "    #   the mean squared error between the actual and predicted values\n",
        "    print('your code here')\n",
        "    # prediction_error =  ((actual - predicted)**2).mean\n",
        "\n",
        "    #https://www.youtube.com/watch?v=dv5xxbFdzro"
      ],
      "metadata": {
        "id": "lKq5w184O8Zc"
      },
      "execution_count": 72,
      "outputs": []
    },
    {
      "cell_type": "code",
      "source": [
        "#  actual: a list of values\n",
        "actual_values = [1, 2, 3, 4, 5]\n",
        "#  predicted: a list of values\n",
        "predicted_values = [1, 2, 3, 4, 5]\n",
        "print(\"MSE: \", mse(actual_values, predicted_values))"
      ],
      "metadata": {
        "colab": {
          "base_uri": "https://localhost:8080/"
        },
        "id": "93GIPOcH697g",
        "outputId": "2b408573-3325-4cdf-dee3-7672632aab61"
      },
      "execution_count": 73,
      "outputs": [
        {
          "output_type": "stream",
          "name": "stdout",
          "text": [
            "MSE:  0.0\n"
          ]
        }
      ]
    },
    {
      "cell_type": "markdown",
      "source": [
        "# Exercise #2\n",
        "Implement the testing and training data. Use the approximately the first 320 rows in the shuffled set as testing data. "
      ],
      "metadata": {
        "id": "mvJxkj41PkIf"
      }
    },
    {
      "cell_type": "code",
      "source": [
        "# change the path so to access the data on your drive \n",
        "wine_data = pandas.read_csv('/content/drive/MyDrive/ColabNotebooks/CS167Datasets/winequality-white.csv')\n",
        "\n",
        "#shuffle the data \"sampling\" the full set in random order\n",
        "shuffled_data = wine_data.sample(frac=1, random_state=41)\n",
        "\n",
        "# establish test_data and train_data here\n",
        "#use the first 320 rows in the shuffled set as testing data \n",
        "#train with the rest #1279 of 1599\n",
        "\n",
        "test_data = shuffled_data.iloc[0:320]\n",
        "train_data = shuffled_data.iloc[320:]\n",
        "print(test_data.shape)\n",
        "print(train_data.shape)\n",
        "\n"
      ],
      "metadata": {
        "id": "oyoxRCKmPtE4",
        "colab": {
          "base_uri": "https://localhost:8080/"
        },
        "outputId": "e22ea7a3-f63c-4d47-87fc-5439d371a8f7"
      },
      "execution_count": 74,
      "outputs": [
        {
          "output_type": "stream",
          "name": "stdout",
          "text": [
            "(320, 12)\n",
            "(1279, 12)\n"
          ]
        }
      ]
    },
    {
      "cell_type": "markdown",
      "source": [
        "# Exercise #3\n",
        "Use the kNN implementation and the other code provided below to normalize your data. Test your model using several different values of k and **graphically show** the results using your implementation of **mse**."
      ],
      "metadata": {
        "id": "tiwDvnNgP_0C"
      }
    },
    {
      "cell_type": "code",
      "source": [
        "def regression_kNN(new_example, train_data, k):\n",
        "  train_data_copy = train_data.copy()\n",
        "  train_data_copy['distance_to_new'] = numpy.sqrt(\n",
        "    (new_example['fixed acidity']-train_data['fixed acidity'])**2\n",
        "    +(new_example['volatile acidity']-train_data['volatile acidity'])**2\n",
        "    +(new_example['citric acid']-train_data['citric acid'])**2\n",
        "    +(new_example['residual sugar']-train_data['residual sugar'])**2\n",
        "    +(new_example['chlorides']-train_data['chlorides'])**2\n",
        "    +(new_example['free sulfur dioxide']-train_data['free sulfur dioxide'])**2\n",
        "    +(new_example['total sulfur dioxide']-train_data['total sulfur dioxide'])**2\n",
        "    +(new_example['density']-train_data['density'])**2\n",
        "    +(new_example['pH']-train_data['pH'])**2\n",
        "    +(new_example['sulphates']-train_data['sulphates'])**2\n",
        "    +(new_example['alcohol']-train_data['alcohol'])**2\n",
        "    )\n",
        "  sorted_data = train_data_copy.sort_values(['distance_to_new']) \n",
        "  prediction = sorted_data.iloc[0:k]['quality'].mean()\n",
        "  return prediction\n",
        "  \n",
        "  #return sorted_data.iloc[0:k]['quality'].mean()\n",
        "  #print(regression_kNN)"
      ],
      "metadata": {
        "id": "TjWnvzR2cR0A"
      },
      "execution_count": 82,
      "outputs": []
    },
    {
      "cell_type": "code",
      "source": [
        "def mse(actual, predicted):\n",
        "    #get the series comparing the two series\n",
        "    compared = actual == predicted\n",
        "    correct_predictions = compared[ compared == True ]\n",
        "    num_correct = len(correct_predictions)\n",
        "    frac_correct = num_correct/len(actual)\n",
        "    return frac_correct"
      ],
      "metadata": {
        "id": "ODM_BVUecqXn"
      },
      "execution_count": 83,
      "outputs": []
    },
    {
      "cell_type": "code",
      "source": [
        "def regressions_all_kNN(test_data,train_data,k):\n",
        "   return test_data.apply(regression_kNN,args=(train_data,k),axis=1)"
      ],
      "metadata": {
        "id": "PeI1081Cc0h4"
      },
      "execution_count": 84,
      "outputs": []
    },
    {
      "cell_type": "code",
      "source": [
        "import numpy\n",
        "predictions5NN = regressions_all_kNN(test_data,train_data,35)\n",
        "print('ACTUAL\\tPREDICTIONS')\n",
        "for i in range(20):\n",
        "    print(test_data['quality'].iloc[i], \"  \", predictions5NN.iloc[i] )\n",
        "\n",
        "acc = mse(test_data['quality'],predictions5NN)\n",
        "print(\"mse:\", acc)"
      ],
      "metadata": {
        "colab": {
          "base_uri": "https://localhost:8080/"
        },
        "id": "_j9SwzNbdCaP",
        "outputId": "01cbf015-d3e2-4085-993e-9d1246112e14"
      },
      "execution_count": 125,
      "outputs": [
        {
          "output_type": "stream",
          "name": "stdout",
          "text": [
            "ACTUAL\tPREDICTIONS\n",
            "5    5.771428571428571\n",
            "5    5.6571428571428575\n",
            "7    5.914285714285715\n",
            "6    5.857142857142857\n",
            "6    5.285714285714286\n",
            "5    5.6\n",
            "6    5.514285714285714\n",
            "7    5.485714285714286\n",
            "6    5.885714285714286\n",
            "7    5.914285714285715\n",
            "5    5.571428571428571\n",
            "5    5.628571428571429\n",
            "6    5.285714285714286\n",
            "6    6.057142857142857\n",
            "5    5.114285714285714\n",
            "6    5.771428571428571\n",
            "5    5.685714285714286\n",
            "6    5.514285714285714\n",
            "6    6.285714285714286\n",
            "6    5.828571428571428\n",
            "mse: 0.028125\n"
          ]
        }
      ]
    },
    {
      "cell_type": "code",
      "source": [
        "# normalize the data (part 1) -- calculate the mean and standard deviation values for the predictor columns\n",
        "fixed_acidity_mean = train_data['fixed acidity'].mean()\n",
        "fixed_acidity_std = train_data['fixed acidity'].std()\n",
        "volatile_acidity_mean = train_data['volatile acidity'].mean()\n",
        "volatile_acidity_std = train_data['volatile acidity'].std()\n",
        "citric_acid_mean = train_data['citric acid'].mean()\n",
        "citric_acid_std = train_data['citric acid'].std()\n",
        "residual_sugar_mean = train_data['residual sugar'].mean()\n",
        "residual_sugar_std = train_data['residual sugar'].std()\n",
        "chlorides_mean = train_data['chlorides'].mean()\n",
        "chlorides_std = train_data['chlorides'].std()\n",
        "free_sulfur_dioxide_mean = train_data['free sulfur dioxide'].mean()\n",
        "free_sulfur_dioxide_std = train_data['free sulfur dioxide'].std()\n",
        "total_sulfur_dioxide_mean = train_data['total sulfur dioxide'].mean()\n",
        "total_sulfur_dioxide_std = train_data['total sulfur dioxide'].std()\n",
        "density_mean = train_data['density'].mean()\n",
        "density_std = train_data['density'].std()\n",
        "pH_mean = train_data['pH'].mean()\n",
        "pH_std = train_data['pH'].std()\n",
        "sulphates_mean = train_data['sulphates'].mean()\n",
        "sulphates_std = train_data['sulphates'].std()\n",
        "alcohol_mean = train_data['alcohol'].mean()\n",
        "alcohol_std = train_data['alcohol'].std()\n"
      ],
      "metadata": {
        "id": "ZbpecOIJQxMv"
      },
      "execution_count": 86,
      "outputs": []
    },
    {
      "cell_type": "code",
      "source": [
        " # normalize the data (part 1) -- normalize both the training and testing data frames\n",
        "train_norm_data = train_data.copy()\n",
        "test_norm_data = test_data.copy()\n",
        "\n",
        "# update the columns in train_norm_data \n",
        "train_norm_data['fixed acidity'] = (train_data['fixed acidity'] - fixed_acidity_mean)/fixed_acidity_std\n",
        "train_norm_data['volatile acidity'] = (train_data['volatile acidity'] - volatile_acidity_mean)/volatile_acidity_std\n",
        "train_norm_data['citric acid'] = (train_data['citric acid'] - citric_acid_mean)/citric_acid_std\n",
        "train_norm_data['residual sugar'] = (train_data['residual sugar'] - residual_sugar_mean)/residual_sugar_std\n",
        "train_norm_data['chlorides'] = (train_data['chlorides'] - chlorides_mean)/chlorides_std\n",
        "train_norm_data['free sulfur dioxide'] = (train_data['free sulfur dioxide'] - free_sulfur_dioxide_mean)/free_sulfur_dioxide_std\n",
        "train_norm_data['total sulfur dioxide'] = (train_data['total sulfur dioxide'] - total_sulfur_dioxide_mean)/total_sulfur_dioxide_std\n",
        "train_norm_data['density'] = (train_data['density'] - density_mean)/density_std\n",
        "train_norm_data['pH'] = (train_data['pH'] - pH_mean)/pH_std\n",
        "train_norm_data['sulphates'] = (train_data['sulphates'] - sulphates_mean)/sulphates_std\n",
        "train_norm_data['alcohol'] = (train_data['alcohol'] - alcohol_mean)/alcohol_std\n",
        "\n",
        "# update the columns in test_norm_data \n",
        "test_norm_data['fixed acidity'] = (test_data['fixed acidity'] - fixed_acidity_mean)/fixed_acidity_std\n",
        "test_norm_data['volatile acidity'] = (test_data['volatile acidity'] - volatile_acidity_mean)/volatile_acidity_std\n",
        "test_norm_data['citric acid'] = (test_data['citric acid'] - citric_acid_mean)/citric_acid_std\n",
        "test_norm_data['residual sugar'] = (test_data['residual sugar'] - residual_sugar_mean)/residual_sugar_std\n",
        "test_norm_data['chlorides'] = (test_data['chlorides'] - chlorides_mean)/chlorides_std\n",
        "test_norm_data['free sulfur dioxide'] = (test_data['free sulfur dioxide'] - free_sulfur_dioxide_mean)/free_sulfur_dioxide_std\n",
        "test_norm_data['total sulfur dioxide'] = (test_data['total sulfur dioxide'] - total_sulfur_dioxide_mean)/total_sulfur_dioxide_std\n",
        "test_norm_data['density'] = (test_data['density'] - density_mean)/density_std\n",
        "test_norm_data['pH'] = (test_data['pH'] - pH_mean)/pH_std\n",
        "test_norm_data['sulphates'] = (test_data['sulphates'] - sulphates_mean)/sulphates_std\n",
        "test_norm_data['alcohol'] = (test_data['alcohol'] - alcohol_mean)/alcohol_std"
      ],
      "metadata": {
        "id": "usRm6g4-Q_uS"
      },
      "execution_count": 87,
      "outputs": []
    },
    {
      "cell_type": "code",
      "source": [
        "import matplotlib.pyplot as plt\n",
        "%matplotlib inline \n",
        "import pandas\n",
        "\n",
        "\n",
        "wine_data = pandas.read_csv('/content/drive/MyDrive/ColabNotebooks/CS167Datasets/winequality-white.csv')\n",
        "wine_data.head()\n",
        "\n",
        "shuffled_data = wine_data.sample(frac=1, random_state = 41)\n",
        "test_data = shuffled_data.iloc[0:320]\n",
        "train_data = shuffled_data.iloc[320:]\n",
        "\n",
        "k_vals = [1,3,5,9,15,21,31,51,101,129]\n",
        "kNN_accuracies = []\n",
        "for k in k_vals:\n",
        "  predictions = regressions_all_kNN(test_data, train_data, k)\n",
        "  current_accuracy = mse(test_data['quality'], predictions)\n",
        "  kNN_accuracies.append(current_accuracy)\n",
        "\n",
        "plt.suptitle('Wine Data k-NN Experiment', fontsize = 18)\n",
        "plt.xlabel('k')\n",
        "plt.ylabel('mse')\n",
        "plt.plot(k_vals, kNN_accuracies, 'ro-', label = 'k-NN')\n",
        "plt.legend(loc='lower left', shadow = True)\n",
        "plt.axis([0, 120, 0, 1])\n",
        "\n",
        "plt.show()"
      ],
      "metadata": {
        "colab": {
          "base_uri": "https://localhost:8080/",
          "height": 308
        },
        "id": "5_ru3eUS_7qz",
        "outputId": "3eb16e80-16f8-44b5-ace9-05674d4d93db"
      },
      "execution_count": 88,
      "outputs": [
        {
          "output_type": "display_data",
          "data": {
            "text/plain": [
              "<Figure size 432x288 with 1 Axes>"
            ],
            "image/png": "[encoded data removed]"
          },
          "metadata": {
            "needs_background": "light"
          }
        }
      ]
    },
    {
      "cell_type": "markdown",
      "source": [
        "As K value gets bigger, MSE gets smaller and closer to zero, which means that our model have less and less error. "
      ],
      "metadata": {
        "id": "ri5XQJfLma1F"
      }
    },
    {
      "cell_type": "markdown",
      "source": [
        "# Exercise #4\n",
        "Repeat the experiment and **graphically show the results** using r^2."
      ],
      "metadata": {
        "id": "_Bgql4RdR8ta"
      }
    },
    {
      "cell_type": "code",
      "source": [
        "import pandas as pd\n",
        "actual = pd.Series([.45,.76, .23,.98, .55])\n",
        "#predicted = pd.Series([.45 ,.76, .23,.98, .55])\n",
        "predicted = pd.Series([.55 ,.77, .28,.96, .57])\n",
        "\n",
        "import sklearn.metrics #we'll talk more about sklearn tomorrow\n",
        "\n",
        "r2_val = sklearn.metrics.r2_score(actual, predicted)\n",
        "print(\"r^2 value: \" , r2_val)"
      ],
      "metadata": {
        "colab": {
          "base_uri": "https://localhost:8080/"
        },
        "id": "60L1h6NuRh-c",
        "outputId": "437c08ea-21c9-4f54-bb85-30ea5371f829"
      },
      "execution_count": 90,
      "outputs": [
        {
          "output_type": "stream",
          "name": "stdout",
          "text": [
            "r^2 value:  0.9596044857108404\n"
          ]
        }
      ]
    },
    {
      "cell_type": "code",
      "source": [
        "# change the path so to access the data on your drive \n",
        "wine_data = pandas.read_csv('/content/drive/MyDrive/ColabNotebooks/CS167Datasets/winequality-white.csv')\n",
        "\n",
        "#shuffle the data \"sampling\" the full set in random order\n",
        "shuffled_data = wine_data.sample(frac=1, random_state=41)\n",
        "\n",
        "# establish test_data and train_data here\n",
        "#use the first 320 rows in the shuffled set as testing data \n",
        "#train with the rest #1279 of 1599\n",
        "\n",
        "test_data = shuffled_data.iloc[0:320]\n",
        "train_data = shuffled_data.iloc[320:]\n",
        "print(test_data.shape)\n",
        "print(train_data.shape)"
      ],
      "metadata": {
        "colab": {
          "base_uri": "https://localhost:8080/"
        },
        "id": "8mXEZWZC96hy",
        "outputId": "a40f6048-13a8-4653-a287-596c2958da6a"
      },
      "execution_count": 91,
      "outputs": [
        {
          "output_type": "stream",
          "name": "stdout",
          "text": [
            "(320, 12)\n",
            "(1279, 12)\n"
          ]
        }
      ]
    },
    {
      "cell_type": "code",
      "source": [
        "def regression_kNN(new_example, train_data, k):\n",
        "  train_data_copy = train_data.copy()\n",
        "  train_data_copy['distance_to_new'] = numpy.sqrt(\n",
        "    (new_example['fixed acidity']-train_data['fixed acidity'])**2\n",
        "    +(new_example['volatile acidity']-train_data['volatile acidity'])**2\n",
        "    +(new_example['citric acid']-train_data['citric acid'])**2\n",
        "    +(new_example['residual sugar']-train_data['residual sugar'])**2\n",
        "    +(new_example['chlorides']-train_data['chlorides'])**2\n",
        "    +(new_example['free sulfur dioxide']-train_data['free sulfur dioxide'])**2\n",
        "    +(new_example['total sulfur dioxide']-train_data['total sulfur dioxide'])**2\n",
        "    +(new_example['density']-train_data['density'])**2\n",
        "    +(new_example['pH']-train_data['pH'])**2\n",
        "    +(new_example['sulphates']-train_data['sulphates'])**2\n",
        "    +(new_example['alcohol']-train_data['alcohol'])**2\n",
        "    )\n",
        "  sorted_data = train_data_copy.sort_values(['distance_to_new']) \n",
        "  prediction = sorted_data.iloc[0:k]['quality'].mean()\n",
        "  return prediction\n",
        "  \n",
        "  #return sorted_data.iloc[0:k]['quality'].mean()\n",
        "  #print(regression_kNN)"
      ],
      "metadata": {
        "id": "l3S2Wd3q-HHB"
      },
      "execution_count": 92,
      "outputs": []
    },
    {
      "cell_type": "code",
      "source": [
        "#def mse(actual, predicted):\n",
        "   # #get the series comparing the two series\n",
        "   # compared = actual == predicted\n",
        "   # correct_predictions = compared[ compared == True ]\n",
        "   # num_correct = len(correct_predictions)\n",
        "   # frac_correct = num_correct/len(actual)\n",
        "   # return frac_correct\n",
        "\n",
        "import sklearn.metrics \n",
        "\n",
        "def r2_val(actual, predicted):\n",
        "  r2_val = sklearn.metrics.r2_score(actual, predicted)\n",
        "  return r2_val"
      ],
      "metadata": {
        "id": "2eZi8qCc-PUi"
      },
      "execution_count": 93,
      "outputs": []
    },
    {
      "cell_type": "code",
      "source": [
        "def regressions_all_kNN(test_data,train_data,k):\n",
        "   return test_data.apply(regression_kNN,args=(train_data,k),axis=1)"
      ],
      "metadata": {
        "id": "PnjPwccnAfWq"
      },
      "execution_count": 94,
      "outputs": []
    },
    {
      "cell_type": "code",
      "source": [
        "import numpy\n",
        "predictions4NN = regressions_all_kNN(test_data,train_data,25)\n",
        "print('ACTUAL\\tPREDICTIONS')\n",
        "for i in range(20):\n",
        "    print(test_data['quality'].iloc[i], \"  \", predictions4NN.iloc[i] )\n",
        "\n",
        "acc = r2_val(test_data['quality'],predictions4NN)\n",
        "print(\"r2_val:\", acc)"
      ],
      "metadata": {
        "colab": {
          "base_uri": "https://localhost:8080/"
        },
        "id": "L6W1QbXuAlch",
        "outputId": "485bdda6-c263-4987-9901-99739e8ebbe3"
      },
      "execution_count": 134,
      "outputs": [
        {
          "output_type": "stream",
          "name": "stdout",
          "text": [
            "ACTUAL\tPREDICTIONS\n",
            "5    5.84\n",
            "5    5.68\n",
            "7    6.0\n",
            "6    6.04\n",
            "6    5.28\n",
            "5    5.52\n",
            "6    5.4\n",
            "7    5.52\n",
            "6    5.96\n",
            "7    5.96\n",
            "5    5.44\n",
            "5    5.44\n",
            "6    5.4\n",
            "6    6.0\n",
            "5    5.04\n",
            "6    5.8\n",
            "5    5.44\n",
            "6    5.52\n",
            "6    6.44\n",
            "6    5.8\n",
            "r2_val: 0.17692707292707288\n"
          ]
        }
      ]
    },
    {
      "cell_type": "code",
      "source": [
        "import matplotlib.pyplot as plt\n",
        "%matplotlib inline \n",
        "import pandas\n",
        "\n",
        "\n",
        "wine_data = pandas.read_csv('/content/drive/MyDrive/ColabNotebooks/CS167Datasets/winequality-white.csv')\n",
        "wine_data.head()\n",
        "\n",
        "shuffled_data = wine_data.sample(frac=1, random_state = 41)\n",
        "test_data = shuffled_data.iloc[0:320]\n",
        "train_data = shuffled_data.iloc[320:]\n",
        "\n",
        "k_vals = [1,3,5,9,15,21,31,51,101,129]\n",
        "kNN_accuracies = []\n",
        "for k in k_vals:\n",
        "  predictions = regressions_all_kNN(test_data, train_data, k)\n",
        "  current_accuracy = r2_val(test_data['quality'], predictions)\n",
        "  kNN_accuracies.append(current_accuracy)\n",
        "\n",
        "plt.suptitle('Wine Data k-NN Experiment', fontsize = 18)\n",
        "plt.xlabel('k')\n",
        "plt.ylabel('r2_val')\n",
        "plt.plot(k_vals, kNN_accuracies, 'ro-', label = 'k-NN')\n",
        "plt.legend(loc='lower left', shadow = True)\n",
        "plt.axis([0, 120, 0, 1])\n",
        "\n",
        "plt.show()"
      ],
      "metadata": {
        "colab": {
          "base_uri": "https://localhost:8080/",
          "height": 308
        },
        "id": "Syn2zFyLA8qJ",
        "outputId": "ea00d07e-0bb3-425a-996a-ac0ac5bf3f87"
      },
      "execution_count": 119,
      "outputs": [
        {
          "output_type": "display_data",
          "data": {
            "text/plain": [
              "<Figure size 432x288 with 1 Axes>"
            ],
            "image/png": "[encoded data removed]"
          },
          "metadata": {
            "needs_background": "light"
          }
        }
      ]
    },
    {
      "cell_type": "markdown",
      "source": [
        "# Exercise #5. \n",
        "Describe your findings. What conclusions can you draw about the best number for k for the k-NN algorithm for this data set? **Explain why.** Use a markdown cell to explain your conclusions."
      ],
      "metadata": {
        "id": "j0_mN_MpTscx"
      }
    },
    {
      "cell_type": "markdown",
      "source": [
        "For r^2, the best number for k is 25 because that's when the r^2 value is the highest at 0.1769. After that, as K gets higher, r^2 value goes down and away from 1, which means its not going to be a perfect model. \n",
        "For MSE, the best number for k is 1 because that's when the MSE value is the highest at 0.56. As k gets higher, MSE value goes down and getting closer to zero, which means the model is having less and less error."
      ],
      "metadata": {
        "id": "LUzUQ4pxIy0z"
      }
    },
    {
      "cell_type": "code",
      "source": [],
      "metadata": {
        "id": "mRSiAFqMKhhH"
      },
      "execution_count": null,
      "outputs": []
    }
  ]
}