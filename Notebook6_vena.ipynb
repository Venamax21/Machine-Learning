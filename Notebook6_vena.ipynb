{
  "nbformat": 4,
  "nbformat_minor": 0,
  "metadata": {
    "colab": {
      "provenance": [],
      "include_colab_link": true
    },
    "kernelspec": {
      "name": "python3",
      "display_name": "Python 3"
    },
    "language_info": {
      "name": "python"
    },
    "accelerator": "GPU",
    "gpuClass": "standard"
  },
  "cells": [
    {
      "cell_type": "markdown",
      "metadata": {
        "id": "view-in-github",
        "colab_type": "text"
      },
      "source": [
        "<a href=\"https://colab.research.google.com/github/j23-cs167/notebook-6-xrays-Venamax21/blob/main/Notebook6_vena.ipynb\" target=\"_parent\"><img src=\"https://colab.research.google.com/assets/colab-badge.svg\" alt=\"Open In Colab\"/></a>"
      ]
    },
    {
      "cell_type": "markdown",
      "metadata": {
        "id": "XHNyMbAY0QB5"
      },
      "source": [
        "# Notebook \\# 6\n",
        "Name:VANLAL VENA\n",
        "Date:\n",
        "\n",
        "## Problem Description:\n",
        "\n",
        "\n",
        "\n",
        "### Hints/ Tips Tricks\n",
        "- Don't forget to enable GPUs under 'Edit', 'Notebook Settings', 'Accerlate Hardware', 'GPU'.\n",
        "- Make sure you unzip the data and put it in your Drive.\n"
      ]
    },
    {
      "cell_type": "code",
      "metadata": {
        "id": "9TyLjTVU0MQr",
        "colab": {
          "base_uri": "https://localhost:8080/"
        },
        "outputId": "25bbfd98-5c0e-44f9-b1ab-1317bf6fcf11"
      },
      "source": [
        "import keras\n",
        "import tensorflow \n",
        "import sys\n",
        "from matplotlib import pyplot\n",
        "from keras.utils import to_categorical\n",
        "from keras.models import Sequential\n",
        "from keras.layers import Conv2D\n",
        "from keras.layers import MaxPooling2D\n",
        "from keras.layers import Dense\n",
        "from keras.layers import Flatten\n",
        "from keras.optimizers import SGD\n",
        "from keras.preprocessing.image import ImageDataGenerator\n",
        "import sys\n",
        "\n",
        "## Connect to Drive\n",
        "from google.colab import drive\n",
        "import pandas\n",
        "drive.mount('/content/drive')\n",
        "\n",
        "## Image dimensions\n",
        "img_width = 200\n",
        "img_height = 200\n",
        "\n",
        "## Directories for testing and training data\n",
        "train_data_dir = '/content/drive/MyDrive/ColabNotebooks/CS167Datasets/chest_xray/train' \n",
        "test_data_dir = '/content/drive/MyDrive/ColabNotebooks/CS167Datasets/chest_xray/test'\n",
        "\n",
        "## To feed the training images to the neural network in batches of 32 images at a time\n",
        "batch_size = 32\n",
        "\n",
        "## Rescale pixel values from [0, 255] to between 0 and 1\n",
        "datagen = ImageDataGenerator(rescale=1.0/255.0)\n",
        "\n",
        "## Look for training and testing data and figure out the class of each example based on subfolder\n",
        "train_data = datagen.flow_from_directory(\n",
        "        train_data_dir,\n",
        "        target_size=(img_width, img_height),\n",
        "        batch_size=batch_size,\n",
        "        class_mode='binary')\n",
        "\n",
        "test_data = datagen.flow_from_directory(\n",
        "        test_data_dir,\n",
        "        target_size=(img_width, img_height),\n",
        "        batch_size=batch_size,\n",
        "        class_mode='binary')"
      ],
      "execution_count": 1,
      "outputs": [
        {
          "output_type": "stream",
          "name": "stdout",
          "text": [
            "Drive already mounted at /content/drive; to attempt to forcibly remount, call drive.mount(\"/content/drive\", force_remount=True).\n",
            "Found 5216 images belonging to 2 classes.\n",
            "Found 624 images belonging to 2 classes.\n"
          ]
        }
      ]
    },
    {
      "cell_type": "code",
      "metadata": {
        "id": "t_i-Cfa41ZvU"
      },
      "source": [
        "# BASELINE CNN\n",
        "\n",
        "model2 = Sequential()\n",
        "model2.add(Conv2D(32, (3, 3), activation = 'relu', input_shape=(img_width, img_height, 3)))\n",
        "model2.add(MaxPooling2D(pool_size=(2, 2)))\n",
        "\n",
        "model2.add(Conv2D(64, (3, 3),activation = 'relu'))\n",
        "model2.add(MaxPooling2D(pool_size=(2, 2)))\n",
        "\n",
        "model2.add(Flatten())\n",
        "model2.add(Dense(64,activation = 'relu'))\n",
        "model2.add(Dense(1,activation='sigmoid'))\n",
        "\n",
        "# need to compile the model before you can use it\n",
        "opt = SGD(lr=0.001, momentum=0.9)\n",
        "model2.compile(optimizer=opt, loss='binary_crossentropy', metrics=['accuracy'])\n",
        "model2.summary()\n"
      ],
      "execution_count": null,
      "outputs": []
    },
    {
      "cell_type": "code",
      "source": [
        "#This will actually train the model.\n",
        "\n",
        "training_results2 = model2.fit_generator(\n",
        "        train_data, #training set\n",
        "        steps_per_epoch = len(train_data), \n",
        "        epochs=5, #number of epo4hs \n",
        "        validation_data = test_data, #testing set\n",
        "        validation_steps = len(test_data)\n",
        "        )"
      ],
      "metadata": {
        "id": "zvaM92zM2STY",
        "colab": {
          "base_uri": "https://localhost:8080/"
        },
        "outputId": "50237a11-0d0a-461d-92dd-4d498059cbff"
      },
      "execution_count": 6,
      "outputs": [
        {
          "output_type": "stream",
          "name": "stdout",
          "text": [
            "Epoch 1/5\n"
          ]
        },
        {
          "output_type": "stream",
          "name": "stderr",
          "text": [
            "<ipython-input-6-da8f6a853e96>:3: UserWarning: `Model.fit_generator` is deprecated and will be removed in a future version. Please use `Model.fit`, which supports generators.\n",
            "  training_results2 = model2.fit_generator(\n"
          ]
        },
        {
          "output_type": "stream",
          "name": "stdout",
          "text": [
            "163/163 [==============================] - 17s 101ms/step - loss: 0.1357 - accuracy: 0.9479 - val_loss: 0.3983 - val_accuracy: 0.8333\n",
            "Epoch 2/5\n",
            "163/163 [==============================] - 15s 93ms/step - loss: 0.1352 - accuracy: 0.9490 - val_loss: 1.0343 - val_accuracy: 0.7131\n",
            "Epoch 3/5\n",
            "163/163 [==============================] - 15s 94ms/step - loss: 0.1506 - accuracy: 0.9415 - val_loss: 0.6126 - val_accuracy: 0.7772\n",
            "Epoch 4/5\n",
            "163/163 [==============================] - 16s 99ms/step - loss: 0.1179 - accuracy: 0.9544 - val_loss: 0.9366 - val_accuracy: 0.7163\n",
            "Epoch 5/5\n",
            "163/163 [==============================] - 15s 91ms/step - loss: 0.1234 - accuracy: 0.9540 - val_loss: 0.7145 - val_accuracy: 0.7692\n"
          ]
        }
      ]
    },
    {
      "cell_type": "code",
      "source": [
        "import matplotlib.pyplot as plt\n",
        "%matplotlib inline\n",
        "plt.plot(training_results2.history['accuracy'])\n",
        "plt.plot(training_results2.history['val_accuracy'])\n",
        "plt.title('model accuracy')\n",
        "plt.ylabel('accuracy')\n",
        "plt.xlabel('epoch')\n",
        "plt.legend(['train', 'test'], loc='upper left')\n",
        "plt.show()"
      ],
      "metadata": {
        "colab": {
          "base_uri": "https://localhost:8080/",
          "height": 295
        },
        "id": "ax6iJJ5XCh8N",
        "outputId": "26b2f298-3464-4950-b841-9f12866a33b5"
      },
      "execution_count": 9,
      "outputs": [
        {
          "output_type": "display_data",
          "data": {
            "text/plain": [
              "<Figure size 432x288 with 1 Axes>"
            ],
            "image/png": "[encoded data removed]"
          },
          "metadata": {
            "needs_background": "light"
          }
        }
      ]
    },
    {
      "cell_type": "code",
      "source": [
        "#TUNED CNN (Parameters changed)\n",
        "model3 = Sequential()\n",
        "model3.add(Conv2D(64, (8, 8), activation = 'relu', input_shape=(img_width, img_height, 3)))\n",
        "model3.add(MaxPooling2D(pool_size=(10, 10)))\n",
        "\n",
        "model3.add(Conv2D(64, (8, 8),activation = 'relu'))\n",
        "model3.add(MaxPooling2D(pool_size=(10, 10)))\n",
        "\n",
        "model3.add(Flatten())\n",
        "model3.add(Dense(64,activation = 'relu'))\n",
        "model3.add(Dense(1,activation='sigmoid'))\n",
        "\n",
        "# need to compile the model before you can use it\n",
        "opt = SGD(lr=0.001, momentum=0.9)\n",
        "model3.compile(optimizer=opt, loss='binary_crossentropy', metrics=['accuracy'])\n",
        "model3.summary()"
      ],
      "metadata": {
        "colab": {
          "base_uri": "https://localhost:8080/"
        },
        "id": "l_9UmbYz__2-",
        "outputId": "4cc18bf9-ef53-45c9-c1c9-9af303bc672f"
      },
      "execution_count": 63,
      "outputs": [
        {
          "output_type": "stream",
          "name": "stdout",
          "text": [
            "Model: \"sequential_25\"\n",
            "_________________________________________________________________\n",
            " Layer (type)                Output Shape              Param #   \n",
            "=================================================================\n",
            " conv2d_50 (Conv2D)          (None, 193, 193, 64)      12352     \n",
            "                                                                 \n",
            " max_pooling2d_50 (MaxPoolin  (None, 19, 19, 64)       0         \n",
            " g2D)                                                            \n",
            "                                                                 \n",
            " conv2d_51 (Conv2D)          (None, 12, 12, 64)        262208    \n",
            "                                                                 \n",
            " max_pooling2d_51 (MaxPoolin  (None, 1, 1, 64)         0         \n",
            " g2D)                                                            \n",
            "                                                                 \n",
            " flatten_25 (Flatten)        (None, 64)                0         \n",
            "                                                                 \n",
            " dense_47 (Dense)            (None, 64)                4160      \n",
            "                                                                 \n",
            " dense_48 (Dense)            (None, 1)                 65        \n",
            "                                                                 \n",
            "=================================================================\n",
            "Total params: 278,785\n",
            "Trainable params: 278,785\n",
            "Non-trainable params: 0\n",
            "_________________________________________________________________\n"
          ]
        }
      ]
    },
    {
      "cell_type": "markdown",
      "source": [
        "Parameters changed: I increased the filter from 32 to 64. I also changed the kernel size to 8 by 8 instead with the pool size to 10."
      ],
      "metadata": {
        "id": "2hWD7pMWoTmL"
      }
    },
    {
      "cell_type": "code",
      "source": [
        "training_results3 = model3.fit_generator(\n",
        "        train_data, #training set\n",
        "        steps_per_epoch = len(train_data), \n",
        "        epochs=20, #number of epochs \n",
        "        validation_data = test_data, #testing set\n",
        "        validation_steps = len(test_data)\n",
        "        )"
      ],
      "metadata": {
        "colab": {
          "base_uri": "https://localhost:8080/"
        },
        "id": "I3eWVT-rAEqO",
        "outputId": "d50d6c9e-ccf3-4bf3-fdc5-5632eac41bdd"
      },
      "execution_count": 64,
      "outputs": [
        {
          "output_type": "stream",
          "name": "stderr",
          "text": [
            "<ipython-input-64-962fcf369f40>:1: UserWarning: `Model.fit_generator` is deprecated and will be removed in a future version. Please use `Model.fit`, which supports generators.\n",
            "  training_results3 = model3.fit_generator(\n"
          ]
        },
        {
          "output_type": "stream",
          "name": "stdout",
          "text": [
            "Epoch 1/20\n",
            "163/163 [==============================] - 17s 98ms/step - loss: 0.5676 - accuracy: 0.7429 - val_loss: 0.6556 - val_accuracy: 0.6250\n",
            "Epoch 2/20\n",
            "163/163 [==============================] - 15s 90ms/step - loss: 0.4626 - accuracy: 0.7778 - val_loss: 0.5584 - val_accuracy: 0.6506\n",
            "Epoch 3/20\n",
            "163/163 [==============================] - 15s 91ms/step - loss: 0.2756 - accuracy: 0.8944 - val_loss: 0.3447 - val_accuracy: 0.8494\n",
            "Epoch 4/20\n",
            "163/163 [==============================] - 15s 90ms/step - loss: 0.2129 - accuracy: 0.9097 - val_loss: 0.4513 - val_accuracy: 0.8045\n",
            "Epoch 5/20\n",
            "163/163 [==============================] - 15s 92ms/step - loss: 0.2110 - accuracy: 0.9155 - val_loss: 0.7953 - val_accuracy: 0.7019\n",
            "Epoch 6/20\n",
            "163/163 [==============================] - 15s 91ms/step - loss: 0.1598 - accuracy: 0.9348 - val_loss: 0.3380 - val_accuracy: 0.8734\n",
            "Epoch 7/20\n",
            "163/163 [==============================] - 15s 90ms/step - loss: 0.1586 - accuracy: 0.9377 - val_loss: 0.4069 - val_accuracy: 0.8333\n",
            "Epoch 8/20\n",
            "163/163 [==============================] - 15s 93ms/step - loss: 0.1453 - accuracy: 0.9408 - val_loss: 0.3304 - val_accuracy: 0.8750\n",
            "Epoch 9/20\n",
            "163/163 [==============================] - 15s 90ms/step - loss: 0.1727 - accuracy: 0.9319 - val_loss: 1.2322 - val_accuracy: 0.6603\n",
            "Epoch 10/20\n",
            "163/163 [==============================] - 14s 88ms/step - loss: 0.1538 - accuracy: 0.9360 - val_loss: 0.4649 - val_accuracy: 0.8109\n",
            "Epoch 11/20\n",
            "163/163 [==============================] - 15s 90ms/step - loss: 0.1329 - accuracy: 0.9500 - val_loss: 1.1551 - val_accuracy: 0.6747\n",
            "Epoch 12/20\n",
            "163/163 [==============================] - 15s 89ms/step - loss: 0.1245 - accuracy: 0.9498 - val_loss: 0.3503 - val_accuracy: 0.8558\n",
            "Epoch 13/20\n",
            "163/163 [==============================] - 15s 90ms/step - loss: 0.1159 - accuracy: 0.9565 - val_loss: 0.6464 - val_accuracy: 0.7596\n",
            "Epoch 14/20\n",
            "163/163 [==============================] - 15s 89ms/step - loss: 0.1285 - accuracy: 0.9486 - val_loss: 0.3597 - val_accuracy: 0.8526\n",
            "Epoch 15/20\n",
            "163/163 [==============================] - 15s 90ms/step - loss: 0.1270 - accuracy: 0.9503 - val_loss: 0.6950 - val_accuracy: 0.7532\n",
            "Epoch 16/20\n",
            "163/163 [==============================] - 14s 89ms/step - loss: 0.1092 - accuracy: 0.9572 - val_loss: 0.5622 - val_accuracy: 0.7869\n",
            "Epoch 17/20\n",
            "163/163 [==============================] - 15s 89ms/step - loss: 0.1138 - accuracy: 0.9563 - val_loss: 0.6354 - val_accuracy: 0.7740\n",
            "Epoch 18/20\n",
            "163/163 [==============================] - 15s 89ms/step - loss: 0.1137 - accuracy: 0.9578 - val_loss: 0.8738 - val_accuracy: 0.7115\n",
            "Epoch 19/20\n",
            "163/163 [==============================] - 15s 89ms/step - loss: 0.0906 - accuracy: 0.9651 - val_loss: 0.3865 - val_accuracy: 0.8429\n",
            "Epoch 20/20\n",
            "163/163 [==============================] - 15s 90ms/step - loss: 0.1016 - accuracy: 0.9597 - val_loss: 0.4067 - val_accuracy: 0.8365\n"
          ]
        }
      ]
    },
    {
      "cell_type": "code",
      "source": [
        "import matplotlib.pyplot as plt\n",
        "%matplotlib inline\n",
        "plt.plot(training_results3.history['accuracy'])\n",
        "plt.plot(training_results3.history['val_accuracy'])\n",
        "plt.title('model accuracy')\n",
        "plt.ylabel('accuracy')\n",
        "plt.xlabel('epoch')\n",
        "plt.legend(['train', 'test'], loc='upper left')\n",
        "plt.show()"
      ],
      "metadata": {
        "id": "mqdMVXDO2Svg",
        "colab": {
          "base_uri": "https://localhost:8080/",
          "height": 295
        },
        "outputId": "7e4b280b-2b40-4d28-92fc-5eb8242be1e3"
      },
      "execution_count": 62,
      "outputs": [
        {
          "output_type": "display_data",
          "data": {
            "text/plain": [
              "<Figure size 432x288 with 1 Axes>"
            ],
            "image/png": "[encoded data removed]"
          },
          "metadata": {
            "needs_background": "light"
          }
        }
      ]
    },
    {
      "cell_type": "markdown",
      "source": [
        "CONCLUSIONS!\n",
        "What configuration of your CNN proved to be more accurate? Why do you think this is the case? \n",
        "Did your model overfit? Why or why not?\n"
      ],
      "metadata": {
        "id": "3r9nCliWDNRe"
      }
    },
    {
      "cell_type": "markdown",
      "source": [
        "It looks like my Tuned CNN proves to be more accurate because accuracy increases as epoch increase for the training data. Test data also constantly increases till epoch 6 and then drops down. \n",
        "My model overfits because my input variables are not significant enough. Increasing the training data size may be able to reduce overfitting."
      ],
      "metadata": {
        "id": "AAtx-pisoMwb"
      }
    }
  ]
}